{
 "metadata": {
  "name": "proceedings"
 },
 "nbformat": 3,
 "nbformat_minor": 0,
 "worksheets": [
  {
   "cells": [
    {
     "cell_type": "code",
     "collapsed": false,
     "input": [
      "import sys\n",
      "sys.path.append('fatiando')"
     ],
     "language": "python",
     "metadata": {},
     "outputs": [],
     "prompt_number": 1
    },
    {
     "cell_type": "markdown",
     "metadata": {},
     "source": [
      "## Introduction\n",
      "\n",
      "Twelve hundred years ago, in a galaxy just across the hill...\n",
      "\n",
      "Lorem ipsum dolor sit amet, consectetur adipiscing elit. Vestibulum sapien\n",
      "tortor, bibendum et pretium molestie, dapibus ac ante. Nam odio orci, interdum\n",
      "sit amet placerat non, molestie sed dui. Pellentesque eu quam ac mauris\n",
      "tristique sodales. Fusce sodales laoreet nulla, id pellentesque risus convallis\n",
      "eget. Nam id ante gravida justo eleifend semper vel ut nisi. Phasellus\n",
      "adipiscing risus quis dui facilisis fermentum. Duis quis sodales neque. Aliquam\n",
      "ut tellus dolor. Etiam ac elit nec risus lobortis tempus id nec erat. Morbi eu\n",
      "purus enim. Integer et velit vitae arcu interdum aliquet at eget purus. Integer\n",
      "quis nisi neque. Morbi ac odio et leo dignissim sodales. Pellentesque nec nibh\n",
      "nulla. Donec faucibus purus leo. Nullam vel lorem eget enim blandit ultrices.\n",
      "Ut urna lacus, scelerisque nec pellentesque quis, laoreet eu magna. Quisque ac\n",
      "justo vitae odio tincidunt tempus at vitae tortor.\n",
      "\n",
      "Of course, no paper would be complete without some source code.  Without\n",
      "highlighting, it would look like this:\n"
     ]
    },
    {
     "cell_type": "code",
     "collapsed": false,
     "input": [
      "def sum(a, b):\n",
      "    \"\"\"Sum two numbers.\"\"\"\n",
      "    return a + b"
     ],
     "language": "python",
     "metadata": {},
     "outputs": [],
     "prompt_number": 2
    },
    {
     "cell_type": "code",
     "collapsed": false,
     "input": [
      "from fatiando import gridder, utils, gravmag, mesher\n",
      "from fatiando.vis import mpl\n",
      "\n",
      "x, y, z = gridder.scatter([0, 10000, 0, 20000], 400, \n",
      "    z=-1)\n",
      "spheres = [mesher.Sphere(5000, 10000, 1000, \n",
      "    radius=500, props={'density':1000})]\n",
      "gz = gravmag.sphere.gz(x, y, z, spheres)\n",
      "\n",
      "mpl.figure(figsize=(5,4))\n",
      "mpl.axis('scaled')\n",
      "mpl.plot(y, x, '.k')\n",
      "mpl.contourf(y, x, gz, (50, 50), 40, interp=True)\n",
      "mpl.m2km()\n",
      "mpl.savefig('grav_example.png')"
     ],
     "language": "python",
     "metadata": {},
     "outputs": [],
     "prompt_number": 9
    },
    {
     "cell_type": "markdown",
     "metadata": {},
     "source": [
      "![This is the caption of figure 1](files/grav_example.png)"
     ]
    },
    {
     "cell_type": "code",
     "collapsed": false,
     "input": [],
     "language": "python",
     "metadata": {},
     "outputs": []
    }
   ],
   "metadata": {}
  }
 ]
}