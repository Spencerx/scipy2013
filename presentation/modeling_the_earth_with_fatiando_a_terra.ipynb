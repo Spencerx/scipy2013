{
 "metadata": {
  "name": "modeling_the_earth_with_fatiando_a_terra"
 },
 "nbformat": 3,
 "nbformat_minor": 0,
 "worksheets": [
  {
   "cells": [
    {
     "cell_type": "code",
     "collapsed": false,
     "input": [
      "%pylab inline"
     ],
     "language": "python",
     "metadata": {
      "slideshow": {
       "slide_type": "skip"
      }
     },
     "outputs": [
      {
       "output_type": "stream",
       "stream": "stdout",
       "text": [
        "\n",
        "Welcome to pylab, a matplotlib-based Python environment [backend: module://IPython.kernel.zmq.pylab.backend_inline].\n",
        "For more information, type 'help(pylab)'.\n"
       ]
      }
     ],
     "prompt_number": 1
    },
    {
     "cell_type": "code",
     "collapsed": false,
     "input": [
      "from IPython.display import HTML, Image"
     ],
     "language": "python",
     "metadata": {
      "slideshow": {
       "slide_type": "skip"
      }
     },
     "outputs": [],
     "prompt_number": 9
    },
    {
     "cell_type": "heading",
     "level": 1,
     "metadata": {
      "slideshow": {
       "slide_type": "slide"
      }
     },
     "source": [
      "Modeling the Earth "
     ]
    },
    {
     "cell_type": "heading",
     "level": 1,
     "metadata": {},
     "source": [
      "with Fatiando a Terra"
     ]
    },
    {
     "cell_type": "markdown",
     "metadata": {},
     "source": [
      "Leonardo Uieda\n",
      "\n",
      "Vanderlei C. Oliveira Jr\n",
      "\n",
      "Val\u00e9ria C. F. Barbosa\n",
      "\n",
      "<img src=\"figures/onlogo.png\" style=\"float:left; background:transparent;\">\n",
      "<img src=\"figures/scipylogo.png\" style=\"float:right; background:transparent;\">"
     ]
    },
    {
     "cell_type": "heading",
     "level": 1,
     "metadata": {
      "slideshow": {
       "slide_type": "slide"
      }
     },
     "source": [
      "Geophysical modeling"
     ]
    },
    {
     "cell_type": "heading",
     "level": 2,
     "metadata": {
      "slideshow": {
       "slide_type": "slide"
      }
     },
     "source": [
      "Understand Earth structure"
     ]
    },
    {
     "cell_type": "markdown",
     "metadata": {},
     "source": [
      "<img src=\"figures/earth-structure.jpg\" width=\"900px\" alt=\"Earth structure\">"
     ]
    },
    {
     "cell_type": "markdown",
     "metadata": {
      "slideshow": {
       "slide_type": "slide"
      }
     },
     "source": [
      "<img src=\"figures/look-inside-the-earth.jpg\" alt=\"Can't look inside the earth directly\" width=\"950px\">"
     ]
    },
    {
     "cell_type": "heading",
     "level": 2,
     "metadata": {
      "slideshow": {
       "slide_type": "slide"
      }
     },
     "source": [
      "Indirect measurements"
     ]
    },
    {
     "cell_type": "markdown",
     "metadata": {},
     "source": [
      "<img src=\"figures/indirect-measurements.png\" height=\"720px\" align=\"center\" alt=\"Indirect measurements\">"
     ]
    },
    {
     "cell_type": "heading",
     "level": 2,
     "metadata": {},
     "source": [
      "Inverse problem"
     ]
    },
    {
     "cell_type": "markdown",
     "metadata": {
      "slideshow": {
       "slide_type": "slide"
      }
     },
     "source": [
      "* Can't look inside\n",
      "* Measure data\n",
      "* Infer structure\n",
      "* Examples:\n",
      "    * Gravity \u2013 density\n",
      "    * Magnetic field \u2013 magnetization\n",
      "    * Seismic waves \u2013 velocity\n",
      "* Inverse problem"
     ]
    },
    {
     "cell_type": "heading",
     "level": 2,
     "metadata": {
      "slideshow": {
       "slide_type": "slide"
      }
     },
     "source": [
      "Typical workflow"
     ]
    },
    {
     "cell_type": "markdown",
     "metadata": {},
     "source": [
      "* Write complex input files\n",
      "* Write Fortran/C  (new algorithm)\n",
      "    * I/O logic (custom formats)\n",
      "    * Computation (copy+paste)\n",
      "* Plot in Matlab/Paraview/Surfer\n",
      "* Each step by hand\n",
      "* Can't reproduce 6 months later"
     ]
    },
    {
     "cell_type": "heading",
     "level": 2,
     "metadata": {
      "slideshow": {
       "slide_type": "slide"
      }
     },
     "source": [
      "All inside Python"
     ]
    },
    {
     "cell_type": "markdown",
     "metadata": {},
     "source": [
      "* Python script\n",
      "* Write Python (new algorithm)\n",
      "    * Built-in I/O (numpy.loadtxt, pickle, json)\n",
      "    * Reuse Fatiando a Terra API\n",
      "* Plot and analysis in Python\n",
      "* Re-run script\n",
      "* Script documents whole process (re-run whenever)"
     ]
    },
    {
     "cell_type": "heading",
     "level": 2,
     "metadata": {
      "slideshow": {
       "slide_type": "slide"
      }
     },
     "source": [
      "Fatiando a Terra"
     ]
    },
    {
     "cell_type": "markdown",
     "metadata": {},
     "source": [
      "* Package\n",
      "* Forward modeling\n",
      "* Maps\n",
      "* 3D\n",
      "* Inversion framework (changing a lot)"
     ]
    },
    {
     "cell_type": "heading",
     "level": 2,
     "metadata": {
      "slideshow": {
       "slide_type": "slide"
      }
     },
     "source": [
      "Forward gravity modeling "
     ]
    },
    {
     "cell_type": "code",
     "collapsed": false,
     "input": [
      "from fatiando import gridder, gravmag\n",
      "from fatiando.mesher import Prism\n",
      "model = [Prism(-500,500,-500,500,200,1700,{'density':1000})]\n",
      "area = [-1000, 1000, -1000, 1000]\n",
      "x, y, z = gridder.scatter(area, 100, z=-1)\n",
      "g = gravmag.prism.gz(x, y, z, model)"
     ],
     "language": "python",
     "metadata": {},
     "outputs": [],
     "prompt_number": 14
    },
    {
     "cell_type": "heading",
     "level": 2,
     "metadata": {
      "slideshow": {
       "slide_type": "slide"
      }
     },
     "source": [
      "Forward gravity modeling "
     ]
    },
    {
     "cell_type": "code",
     "collapsed": false,
     "input": [
      "from fatiando.vis import mpl\n",
      "mpl.figure(figsize=(8,6))\n",
      "mpl.axis('scaled')\n",
      "mpl.contourf(y, x, g, (100,100), 30, interp=True)\n",
      "mpl.plot(y, x, '.k')\n",
      "mpl.colorbar()"
     ],
     "language": "python",
     "metadata": {},
     "outputs": [
      {
       "metadata": {},
       "output_type": "pyout",
       "prompt_number": 16,
       "text": [
        "<matplotlib.colorbar.Colorbar instance at 0x5ba31b8>"
       ]
      },
      {
       "metadata": {},
       "output_type": "display_data",
       "png": "[encoded data removed]",
       "text": [
        "<matplotlib.figure.Figure at 0x5747210>"
       ]
      }
     ],
     "prompt_number": 16
    },
    {
     "cell_type": "heading",
     "level": 2,
     "metadata": {
      "slideshow": {
       "slide_type": "slide"
      }
     },
     "source": [
      "How seismic waves are taught"
     ]
    },
    {
     "cell_type": "markdown",
     "metadata": {},
     "source": [
      "<img alt=\"Teaching seismic waves\" src=\"figures/teaching_seismic_waves.svg\" align=\"center\" width=\"950px\">"
     ]
    },
    {
     "cell_type": "heading",
     "level": 2,
     "metadata": {
      "slideshow": {
       "slide_type": "slide"
      }
     },
     "source": [
      "How I'd rather teach"
     ]
    },
    {
     "cell_type": "markdown",
     "metadata": {
      "slideshow": {
       "slide_type": "-"
      }
     },
     "source": [
      "<img alt=\"The Love wave gif\" src=\"figures/lovewave_irregular_crust_noloop.gif\" align=\"center\" width=\"920px\">"
     ]
    },
    {
     "cell_type": "markdown",
     "metadata": {
      "slideshow": {
       "slide_type": "fragment"
      }
     },
     "source": [
      "<img alt=\"The example seismogram\" src=\"figures/example_seismogram.jpg\" style=\"float:center\" width=\"800px\" >"
     ]
    },
    {
     "cell_type": "code",
     "collapsed": false,
     "input": [],
     "language": "python",
     "metadata": {
      "slideshow": {
       "slide_type": "slide"
      }
     },
     "outputs": []
    }
   ],
   "metadata": {}
  }
 ]
}