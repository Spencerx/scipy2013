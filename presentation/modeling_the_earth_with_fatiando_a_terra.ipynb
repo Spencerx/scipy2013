{
 "metadata": {
  "name": "modeling_the_earth_with_fatiando_a_terra"
 },
 "nbformat": 3,
 "nbformat_minor": 0,
 "worksheets": [
  {
   "cells": [
    {
     "cell_type": "code",
     "collapsed": false,
     "input": [
      "%pylab inline"
     ],
     "language": "python",
     "metadata": {
      "slideshow": {
       "slide_type": "skip"
      }
     },
     "outputs": [
      {
       "output_type": "stream",
       "stream": "stdout",
       "text": [
        "\n",
        "Welcome to pylab, a matplotlib-based Python environment [backend: module://IPython.kernel.zmq.pylab.backend_inline].\n",
        "For more information, type 'help(pylab)'.\n"
       ]
      }
     ],
     "prompt_number": 1
    },
    {
     "cell_type": "code",
     "collapsed": false,
     "input": [
      "from IPython.display import HTML, Image"
     ],
     "language": "python",
     "metadata": {
      "slideshow": {
       "slide_type": "skip"
      }
     },
     "outputs": [],
     "prompt_number": 2
    },
    {
     "cell_type": "heading",
     "level": 1,
     "metadata": {
      "slideshow": {
       "slide_type": "slide"
      }
     },
     "source": [
      "Modeling the Earth "
     ]
    },
    {
     "cell_type": "heading",
     "level": 1,
     "metadata": {},
     "source": [
      "with Fatiando a Terra"
     ]
    },
    {
     "cell_type": "markdown",
     "metadata": {},
     "source": [
      "Leonardo Uieda\n",
      "\n",
      "Vanderlei C. Oliveira Jr\n",
      "\n",
      "Val\u00e9ria C. F. Barbosa\n",
      "\n",
      "<img src=\"figures/onlogo.png\" style=\"float:left; background:transparent;\">\n",
      "<img src=\"figures/scipylogo.png\" style=\"float:right; background:transparent;\">"
     ]
    },
    {
     "cell_type": "heading",
     "level": 1,
     "metadata": {
      "slideshow": {
       "slide_type": "slide"
      }
     },
     "source": [
      "Geophysical modeling"
     ]
    },
    {
     "cell_type": "heading",
     "level": 2,
     "metadata": {
      "slideshow": {
       "slide_type": "slide"
      }
     },
     "source": [
      "Understand Earth structure"
     ]
    },
    {
     "cell_type": "markdown",
     "metadata": {},
     "source": [
      "<img src=\"figures/earth-structure.jpg\" width=\"900px\" alt=\"Earth structure\">"
     ]
    },
    {
     "cell_type": "markdown",
     "metadata": {
      "slideshow": {
       "slide_type": "slide"
      }
     },
     "source": [
      "<img src=\"figures/look-inside-the-earth.jpg\" alt=\"Can't look inside the earth directly\" width=\"950px\">"
     ]
    },
    {
     "cell_type": "heading",
     "level": 2,
     "metadata": {
      "slideshow": {
       "slide_type": "slide"
      }
     },
     "source": [
      "Indirect measurements"
     ]
    },
    {
     "cell_type": "markdown",
     "metadata": {},
     "source": [
      "<img src=\"figures/indirect-measurements.png\" height=\"720px\" style=\"margin-left:100px\" alt=\"Indirect measurements\">"
     ]
    },
    {
     "cell_type": "heading",
     "level": 1,
     "metadata": {
      "slideshow": {
       "slide_type": "slide"
      }
     },
     "source": [
      "Example"
     ]
    },
    {
     "cell_type": "heading",
     "level": 4,
     "metadata": {
      "slideshow": {
       "slide_type": "slide"
      }
     },
     "source": [
      "Measure: gravity anomaly from complex geologic body"
     ]
    },
    {
     "cell_type": "code",
     "collapsed": false,
     "input": [
      "from fatiando import gravmag, gridder, mesher, utils\n",
      "from fatiando.vis import myv"
     ],
     "language": "python",
     "metadata": {
      "slideshow": {
       "slide_type": "skip"
      }
     },
     "outputs": [],
     "prompt_number": 4
    },
    {
     "cell_type": "code",
     "collapsed": false,
     "input": [
      "bounds = [0, 10000, 0, 10000, 0, 5000]\n",
      "area = bounds[:4]\n",
      "shape = (25, 25)\n",
      "x, y, z = gridder.regular(area, shape, z=-1)\n",
      "prop = {'density':1000}\n",
      "model = [mesher.Prism(3000, 7000, 3000, 7000, 500, 2500, prop)]\n",
      "gz = utils.contaminate(gravmag.prism.gz(x, y, z, model), 0.1)\n",
      "mesh = mesher.PrismMesh(bounds, (20, 40, 40))\n",
      "seeds = gravmag.harvester.sow([[5000, 5000, 1500, prop]], mesh)\n",
      "data = [gravmag.harvester.Gz(x, y, z, gz)]    \n",
      "estimate = gravmag.harvester.harvest(data, seeds, mesh, 0.1, 0.0005)[0]\n",
      "mesh.addprop('density', estimate['density'])\n",
      "body = mesher.vremove(0, 'density', mesh)\n",
      "fig = myv.figure()\n",
      "fig.scene.background = (0.06666, 0.06666, 0.06666)\n",
      "myv.prisms(body, 'density')\n",
      "myv.axes(myv.outline(bounds, color=(1,1,1)), nlabels=3, ranges=[0.001*b for b in bounds], fmt=\"%.0f\", color=(1,1,1))\n",
      "p = myv.mlab.contour_surf(reshape(x, shape, order='F'), reshape(y, shape, order='F'), -reshape(gz, shape, order='F'), \n",
      "    contours=100, colormap='gist_rainbow')\n",
      "p.contour.filled_contours = True\n",
      "p.actor.actor.position = (0, 0, -2000)\n",
      "p.actor.actor.scale = (1, 1, 100)\n",
      "a = myv.axes(p, color=(1,1,1), ranges=[0.001*b for b in area] + [gz.max(), gz.min()], fmt=\"%.0f\", nlabels=3)\n",
      "a.axes.z_label = \"\"\n",
      "a.axes.x_label = \"\"\n",
      "a.axes.y_label = \"\"\n",
      "myv.wall_bottom(bounds, color=(1,1,1))\n",
      "myv.wall_north(bounds, color=(1,1,1))\n",
      "myv.show()"
     ],
     "language": "python",
     "metadata": {
      "slideshow": {
       "slide_type": "skip"
      }
     },
     "outputs": [],
     "prompt_number": 15
    },
    {
     "cell_type": "markdown",
     "metadata": {
      "slideshow": {
       "slide_type": "-"
      }
     },
     "source": [
      "<img src=\"figures/geologic-body.png\" height=\"720px\" style=\"margin-left:100px\" alt=\"Geologic body\">"
     ]
    },
    {
     "cell_type": "heading",
     "level": 4,
     "metadata": {
      "slideshow": {
       "slide_type": "slide"
      }
     },
     "source": [
      "Estimate: density distribution using simple geometry"
     ]
    },
    {
     "cell_type": "markdown",
     "metadata": {
      "slideshow": {
       "slide_type": "-"
      }
     },
     "source": [
      "<img src=\"figures/geologic-body-estimate.png\" height=\"720px\" style=\"margin-left:100px\" alt=\"Estimate\">"
     ]
    },
    {
     "cell_type": "heading",
     "level": 2,
     "metadata": {
      "slideshow": {
       "slide_type": "slide"
      }
     },
     "source": [
      "Inverse problem"
     ]
    },
    {
     "cell_type": "markdown",
     "metadata": {},
     "source": [
      "Linear algebra: \n",
      "$\\hat{\\mathbf{p}} = (\\mathbf{G}^T\\mathbf{G} + \\mu \\mathbf{I})^{-1}\\mathbf{G}^T\\mathbf{d}$\n",
      "\n",
      "Numerical modeling: *differential equations, integration, arrays, etc.*"
     ]
    },
    {
     "cell_type": "heading",
     "level": 1,
     "metadata": {
      "slideshow": {
       "slide_type": "slide"
      }
     },
     "source": [
      "Typical development workflow"
     ]
    },
    {
     "cell_type": "heading",
     "level": 1,
     "metadata": {
      "slideshow": {
       "slide_type": "slide"
      }
     },
     "source": [
      "1. Write (copy/paste) C/Fortran"
     ]
    },
    {
     "cell_type": "markdown",
     "metadata": {
      "slideshow": {
       "slide_type": "slide"
      }
     },
     "source": [
      "Computation:\n",
      "    \n",
      "    for(k = 0; k < glq_lon.order; k++){\n",
      "        for(j = 0; j < glq_lat.order; j++){\n",
      "            for(i = 0; i < glq_r.order; i++){\n",
      "                rc = glq_r.nodes[i];\n",
      "                sinlatc = sin(d2r*glq_lat.nodes[j]);\n",
      "                coslatc = cos(d2r*glq_lat.nodes[j]);\n",
      "                coslon = cos(d2r*(lonp - glq_lon.nodes[k]));\n",
      "                sinlon = sin(d2r*(glq_lon.nodes[k] - lonp));    \n",
      "                l_sqr = rp*rp + rc*rc - 2*rp*rc*(sinlatp*sinlatc +\n",
      "                        coslatp*coslatc*coslon);\n",
      "                        \n",
      "I/O:\n",
      "\n",
      "    switch(argv[i][1]){\n",
      "        case 'h':\n",
      "            if(argv[i][2] != '\\0'){\n",
      "                log_error(\"invalid argument '%s'\", argv[i]);\n",
      "                bad_args++;\n",
      "                break;\n",
      "            }\n",
      "            print_help();\n",
      "\n"
     ]
    },
    {
     "cell_type": "heading",
     "level": 1,
     "metadata": {
      "slideshow": {
       "slide_type": "slide"
      }
     },
     "source": [
      "2. Write input file"
     ]
    },
    {
     "cell_type": "markdown",
     "metadata": {
      "slideshow": {
       "slide_type": "slide"
      }
     },
     "source": [
      "Custom format (not human readable):\n",
      "\n",
      "    14\n",
      "    \n",
      "    16\n",
      "    16\n",
      "    16\n",
      "    \n",
      "    0.4\t0\t0.5\n",
      "    \n",
      "        129.52861\t38.6746\n",
      "        128.88952\t25.92015\n",
      "        130.326\t    6.44616\n",
      "        116.52356\t-5.8097\n",
      "        98.09756\t-6.64001"
     ]
    },
    {
     "cell_type": "heading",
     "level": 1,
     "metadata": {
      "slideshow": {
       "slide_type": "slide"
      }
     },
     "source": [
      "3. Plot (2D/3D)"
     ]
    },
    {
     "cell_type": "markdown",
     "metadata": {
      "slideshow": {
       "slide_type": "slide"
      }
     },
     "source": [
      "* Matlab\n",
      "* Paraview\n",
      "* Surfer\n",
      "* Generic Mapping Tools (GMT)"
     ]
    },
    {
     "cell_type": "markdown",
     "metadata": {
      "slideshow": {
       "slide_type": "fragment"
      }
     },
     "source": [
      "<p style=\"margin-top:100px;\">\n",
      "Don't get me wrong, these are great software!\n",
      "</p>"
     ]
    },
    {
     "cell_type": "heading",
     "level": 2,
     "metadata": {
      "slideshow": {
       "slide_type": "slide"
      }
     },
     "source": [
      "Tedious"
     ]
    },
    {
     "cell_type": "heading",
     "level": 2,
     "metadata": {
      "slideshow": {
       "slide_type": "fragment"
      }
     },
     "source": [
      "Fragmented"
     ]
    },
    {
     "cell_type": "heading",
     "level": 2,
     "metadata": {
      "slideshow": {
       "slide_type": "fragment"
      }
     },
     "source": [
      "All done by hand"
     ]
    },
    {
     "cell_type": "heading",
     "level": 2,
     "metadata": {
      "slideshow": {
       "slide_type": "fragment"
      }
     },
     "source": [
      "Can't reproduce 6 months later"
     ]
    },
    {
     "cell_type": "heading",
     "level": 1,
     "metadata": {
      "slideshow": {
       "slide_type": "slide"
      }
     },
     "source": [
      "Fatiando a Terra"
     ]
    },
    {
     "cell_type": "markdown",
     "metadata": {
      "slideshow": {
       "slide_type": "-"
      }
     },
     "source": [
      "<img src=\"figures/fatiando-logo.png\" style=\"float:right; background:transparent; margin-right:100px;\" width=\"400px\">\n",
      "\n",
      "Automate\n",
      "\n",
      "Integrate\n",
      "\n",
      "API\n",
      "\n",
      "DRY\n",
      "\n",
      "Reproduce"
     ]
    },
    {
     "cell_type": "heading",
     "level": 1,
     "metadata": {
      "slideshow": {
       "slide_type": "slide"
      }
     },
     "source": [
      "All inside Python"
     ]
    },
    {
     "cell_type": "heading",
     "level": 2,
     "metadata": {
      "slideshow": {
       "slide_type": "slide"
      }
     },
     "source": [
      "1. Write Python"
     ]
    },
    {
     "cell_type": "markdown",
     "metadata": {
      "slideshow": {
       "slide_type": "-"
      }
     },
     "source": [
      "    def _shapefunc(data, predicted):\n",
      "        \"\"\"\n",
      "        Calculate the total shape of anomaly function between \n",
      "        the observed and predicted data.\n",
      "        \"\"\"\n",
      "            result = 0.\n",
      "            for d, p in zip(data, predicted):\n",
      "                alpha = numpy.sum(d.observed*p)/d.norm**2\n",
      "                result += numpy.linalg.norm(alpha*d.observed - p)\n",
      "            return result\n",
      "            \n",
      "Built-in I/O:\n",
      "\n",
      "* numpy.loadtxt\n",
      "* pickle\n",
      "* json"
     ]
    },
    {
     "cell_type": "heading",
     "level": 2,
     "metadata": {
      "slideshow": {
       "slide_type": "slide"
      }
     },
     "source": [
      "2. Input = Python script"
     ]
    },
    {
     "cell_type": "code",
     "collapsed": false,
     "input": [
      "from fatiando import gridder, gravmag\n",
      "from fatiando.mesher import Prism\n",
      "model = [Prism(-500,500,-500,500,200,1700,{'density':1000})]\n",
      "area = [-1000, 1000, -1000, 1000]\n",
      "bounds = area + [0, 2000]\n",
      "x, y, z = gridder.scatter(area, 50, z=-1)\n",
      "g = gravmag.prism.gz(x, y, z, model)\n",
      "print g.shape, g[:20]"
     ],
     "language": "python",
     "metadata": {},
     "outputs": [
      {
       "output_type": "stream",
       "stream": "stdout",
       "text": [
        "(50,) [  3.83236063   3.64335082   5.19674744   4.61796181   9.6869338\n",
        "   1.97055691   4.81503217   2.89287      4.51560691   4.52816563\n",
        "   8.84514232  10.12993002   3.83019167   6.50982686   5.01928002\n",
        "  11.83710914   2.8842355    9.75750351   6.71647767   7.77005508]\n"
       ]
      }
     ],
     "prompt_number": 47
    },
    {
     "cell_type": "heading",
     "level": 2,
     "metadata": {
      "slideshow": {
       "slide_type": "slide"
      }
     },
     "source": [
      "3. Plot = same Python script"
     ]
    },
    {
     "cell_type": "code",
     "collapsed": false,
     "input": [
      "from fatiando.vis import mpl\n",
      "mpl.figure(figsize=(8, 6))\n",
      "mpl.axis('scaled')\n",
      "mpl.contourf(y, x, g, (100, 100), 30, interp=True)\n",
      "mpl.plot(y, x, '.k')\n",
      "mpl.colorbar()"
     ],
     "language": "python",
     "metadata": {},
     "outputs": [
      {
       "metadata": {},
       "output_type": "pyout",
       "prompt_number": 37,
       "text": [
        "<matplotlib.colorbar.Colorbar instance at 0x100b5710>"
       ]
      },
      {
       "metadata": {},
       "output_type": "display_data",
       "png": "[encoded data removed]",
       "text": [
        "<matplotlib.figure.Figure at 0xfad0310>"
       ]
      }
     ],
     "prompt_number": 37
    },
    {
     "cell_type": "heading",
     "level": 2,
     "metadata": {
      "slideshow": {
       "slide_type": "slide"
      }
     },
     "source": [
      "3D plots as well (with Mayavi)"
     ]
    },
    {
     "cell_type": "code",
     "collapsed": false,
     "input": [
      "from fatiando.vis import myv\n",
      "f = myv.figure() \n",
      "f.scene.background = (0.066, 0.066, 0.066)\n",
      "myv.prisms(model)\n",
      "myv.axes(myv.outline(bounds, color=(1, 1, 1)), nlabels=3, fmt='%.0f', color=(1, 1, 1))\n",
      "myv.wall_bottom(bounds, color=(1, 1, 1))\n",
      "myv.wall_north(bounds, color=(1, 1, 1))\n",
      "myv.show()"
     ],
     "language": "python",
     "metadata": {
      "slideshow": {
       "slide_type": "-"
      }
     },
     "outputs": [],
     "prompt_number": 44
    },
    {
     "cell_type": "markdown",
     "metadata": {},
     "source": [
      "<img src=\"figures/3d-plots-as-well.png\" alt=\"Output from above\" style=\"margin-left:200px\" width=\"600px\">"
     ]
    },
    {
     "cell_type": "heading",
     "level": 2,
     "metadata": {
      "slideshow": {
       "slide_type": "slide"
      }
     },
     "source": [
      "Pipeline in Python script (or IPython notebook)"
     ]
    },
    {
     "cell_type": "heading",
     "level": 2,
     "metadata": {
      "slideshow": {
       "slide_type": "fragment"
      }
     },
     "source": [
      "Code re-use without copy/paste"
     ]
    },
    {
     "cell_type": "heading",
     "level": 2,
     "metadata": {
      "slideshow": {
       "slide_type": "fragment"
      }
     },
     "source": [
      "Inverse problem solving framework (unstable)"
     ]
    },
    {
     "cell_type": "heading",
     "level": 1,
     "metadata": {
      "slideshow": {
       "slide_type": "slide"
      }
     },
     "source": [
      "Use for teaching"
     ]
    },
    {
     "cell_type": "heading",
     "level": 2,
     "metadata": {
      "slideshow": {
       "slide_type": "slide"
      }
     },
     "source": [
      "How I learned seismic waves"
     ]
    },
    {
     "cell_type": "markdown",
     "metadata": {},
     "source": [
      "<img alt=\"Teaching seismic waves\" src=\"figures/teaching_seismic_waves.svg\" align=\"center\" width=\"950px\">"
     ]
    },
    {
     "cell_type": "heading",
     "level": 2,
     "metadata": {
      "slideshow": {
       "slide_type": "slide"
      }
     },
     "source": [
      "How I learned seismic waves"
     ]
    },
    {
     "cell_type": "markdown",
     "metadata": {},
     "source": [
      "<img alt=\"Refracted\" src=\"figures/teaching_seismic_waves_refracted.svg\" align=\"center\" width=\"950px\">"
     ]
    },
    {
     "cell_type": "heading",
     "level": 2,
     "metadata": {
      "slideshow": {
       "slide_type": "slide"
      }
     },
     "source": [
      "How I learned seismic waves"
     ]
    },
    {
     "cell_type": "markdown",
     "metadata": {},
     "source": [
      "<img alt=\"Reflected\" src=\"figures/teaching_seismic_waves_reflected.svg\" align=\"center\" width=\"950px\">"
     ]
    },
    {
     "cell_type": "heading",
     "level": 2,
     "metadata": {
      "slideshow": {
       "slide_type": "slide"
      }
     },
     "source": [
      "How I learned seismic waves"
     ]
    },
    {
     "cell_type": "markdown",
     "metadata": {},
     "source": [
      "<img alt=\"Surface waves\" src=\"figures/teaching_seismic_waves_surface.svg\" align=\"center\" width=\"950px\">"
     ]
    },
    {
     "cell_type": "heading",
     "level": 2,
     "metadata": {
      "slideshow": {
       "slide_type": "slide"
      }
     },
     "source": [
      "How I'd rather teach"
     ]
    },
    {
     "cell_type": "markdown",
     "metadata": {
      "slideshow": {
       "slide_type": "-"
      }
     },
     "source": [
      "<img alt=\"The Love wave gif\" src=\"figures/lovewave_irregular_crust_noloop.gif\" align=\"center\" width=\"920px\">"
     ]
    },
    {
     "cell_type": "markdown",
     "metadata": {
      "slideshow": {
       "slide_type": "fragment"
      }
     },
     "source": [
      "<img alt=\"The example seismogram\" src=\"figures/example_seismogram.jpg\" style=\"float:center\" width=\"800px\" >"
     ]
    }
   ],
   "metadata": {}
  }
 ]
}